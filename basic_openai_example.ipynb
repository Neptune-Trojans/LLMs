{
  "nbformat": 4,
  "nbformat_minor": 0,
  "metadata": {
    "colab": {
      "provenance": [],
      "authorship_tag": "ABX9TyMobxyf1reH5rtMMkZkITKB"
    },
    "kernelspec": {
      "name": "python3",
      "display_name": "Python 3"
    },
    "language_info": {
      "name": "python"
    }
  },
  "cells": [
    {
      "cell_type": "code",
      "execution_count": null,
      "metadata": {
        "id": "16c6ASm7rmFc"
      },
      "outputs": [],
      "source": [
        "%pip install llama-index\n",
        "%pip install llama-index-embeddings-openai\n",
        "%pip install llama-index-llms-openai\n",
        "%pip install llama-index-readers-file\n",
        "%pip install docx2txt\n",
        "%pip install llama-index-vector-stores-faiss\n",
        "%pip install faiss-cpu"
      ]
    },
    {
      "cell_type": "code",
      "source": [
        "from google.colab import drive\n",
        "drive.mount('/content/drive')\n",
        "input_dir = '/content/drive/MyDrive/colab_input_data/docs/'"
      ],
      "metadata": {
        "colab": {
          "base_uri": "https://localhost:8080/"
        },
        "id": "MZ2qK3k5tNkG",
        "outputId": "9847c3cd-bff8-468e-95d3-addd8efe81fc"
      },
      "execution_count": 2,
      "outputs": [
        {
          "output_type": "stream",
          "name": "stdout",
          "text": [
            "Drive already mounted at /content/drive; to attempt to forcibly remount, call drive.mount(\"/content/drive\", force_remount=True).\n"
          ]
        }
      ]
    },
    {
      "cell_type": "code",
      "source": [
        "from google.colab import userdata\n",
        "OPENAI_API_KEY = userdata.get('OPENAI_API_KEY')\n",
        "\n",
        "EMBED_DIMENSION = 512"
      ],
      "metadata": {
        "id": "AC8tk2CouqOn"
      },
      "execution_count": 3,
      "outputs": []
    },
    {
      "cell_type": "code",
      "source": [
        "from llama_index.llms.openai import OpenAI\n",
        "from llama_index.embeddings.openai import OpenAIEmbedding\n",
        "from llama_index.core import VectorStoreIndex, SimpleDirectoryReader\n",
        "from llama_index.vector_stores.faiss import FaissVectorStore\n",
        "import faiss"
      ],
      "metadata": {
        "id": "SBfCcC4xfxq4"
      },
      "execution_count": 4,
      "outputs": []
    },
    {
      "cell_type": "code",
      "source": [
        "# initialize the LLM\n",
        "llm = OpenAI(model=\"gpt-4o-mini\", api_key=OPENAI_API_KEY)\n",
        "\n",
        "# initialize the embedding\n",
        "embed_model = OpenAIEmbedding(model=\"text-embedding-3-small\", api_key=OPENAI_API_KEY, dimensions=EMBED_DIMENSION)"
      ],
      "metadata": {
        "id": "XabWFeJgr9DA"
      },
      "execution_count": 5,
      "outputs": []
    },
    {
      "cell_type": "code",
      "source": [
        "from llama_index.core import Settings\n",
        "\n",
        "# global settings\n",
        "Settings.llm = llm\n",
        "Settings.embed_model = embed_model\n",
        "Settings.chunk_size = 200\n",
        "Settings.chunk_overlap = 50"
      ],
      "metadata": {
        "id": "W9x1bd6msvog"
      },
      "execution_count": 6,
      "outputs": []
    },
    {
      "cell_type": "code",
      "source": [
        "# load documents\n",
        "node_parser = SimpleDirectoryReader(input_dir=input_dir,required_exts=[\".docx\"])\n",
        "documents = node_parser.load_data()"
      ],
      "metadata": {
        "id": "K7MOdzZcs24W"
      },
      "execution_count": 7,
      "outputs": []
    },
    {
      "cell_type": "code",
      "source": [
        "\n",
        "# Create FaisVectorStore to store embeddings\n",
        "faiss_index = faiss.IndexFlatL2(EMBED_DIMENSION)\n",
        "vector_store = FaissVectorStore(faiss_index=faiss_index)"
      ],
      "metadata": {
        "id": "gop0yGkrkepL"
      },
      "execution_count": 8,
      "outputs": []
    },
    {
      "cell_type": "code",
      "source": [
        "from llama_index.core.schema import BaseNode, TransformComponent\n",
        "from llama_index.core.text_splitter import SentenceSplitter\n",
        "from llama_index.core.ingestion import IngestionPipeline\n",
        "\n",
        "class TextCleaner(TransformComponent):\n",
        "    \"\"\"\n",
        "    Transformation to be used within the ingestion pipeline.\n",
        "    Cleans clutters from texts.\n",
        "    \"\"\"\n",
        "    def __call__(self, nodes, **kwargs) -> list[BaseNode]:\n",
        "\n",
        "        for node in nodes:\n",
        "          if 'text_resource' in node:\n",
        "              node.text_resource = node.text_resource.replace('\\t', ' ') # Replace tabs with spaces\n",
        "              node.text_resource = node.text_resource.replace(' \\n', ' ') # Replace paragraph seperator with spacaes\n",
        "\n",
        "        return nodes"
      ],
      "metadata": {
        "id": "flII1x_5naDe"
      },
      "execution_count": 9,
      "outputs": []
    },
    {
      "cell_type": "code",
      "source": [
        "text_splitter = SentenceSplitter(chunk_size=200, chunk_overlap=50)\n",
        "\n",
        "# Create a pipeline with defined document transformations and vectorstore\n",
        "pipeline = IngestionPipeline(\n",
        "    transformations=[\n",
        "        TextCleaner(),\n",
        "        text_splitter,\n",
        "    ],\n",
        "    vector_store=vector_store,\n",
        ")"
      ],
      "metadata": {
        "id": "CxHU5UDznx-6"
      },
      "execution_count": 10,
      "outputs": []
    },
    {
      "cell_type": "code",
      "source": [
        "# Run pipeline and get generated nodes from the process\n",
        "nodes = pipeline.run(documents=documents)"
      ],
      "metadata": {
        "id": "kTss2e16oEej"
      },
      "execution_count": 11,
      "outputs": []
    },
    {
      "cell_type": "code",
      "source": [
        "vector_store_index = VectorStoreIndex(nodes)\n",
        "query_engine = vector_store_index.as_retriever(similarity_top_k=3)"
      ],
      "metadata": {
        "id": "OutcmGYuqpKK"
      },
      "execution_count": 12,
      "outputs": []
    },
    {
      "cell_type": "code",
      "source": [
        "# generating query response\n",
        "response = query_engine.retrieve(\"where Paul learned ?\")"
      ],
      "metadata": {
        "id": "yF3wX11o2Pga"
      },
      "execution_count": 13,
      "outputs": []
    },
    {
      "cell_type": "code",
      "source": [
        "from llama_index.core.memory import ChatMemoryBuffer\n",
        "from llama_index.core.chat_engine import CondensePlusContextChatEngine\n",
        "\n",
        "# creating chat memory buffer\n",
        "memory = ChatMemoryBuffer.from_defaults(token_limit=4500)\n",
        "\n",
        "# creating chat engine\n",
        "chat_engine = CondensePlusContextChatEngine.from_defaults(\n",
        "   query_engine,\n",
        "   memory=memory,\n",
        "   llm=llm\n",
        ")\n",
        "\n",
        "# generating chat response\n",
        "response = chat_engine.chat(\n",
        "   \"where Paul learned ?\"\n",
        ")\n",
        "print(str(response))\n"
      ],
      "metadata": {
        "colab": {
          "base_uri": "https://localhost:8080/"
        },
        "id": "wzVQ54bR4q7L",
        "outputId": "1526fc75-1c89-4e8e-c979-76d5726a1e56"
      },
      "execution_count": 14,
      "outputs": [
        {
          "output_type": "stream",
          "name": "stdout",
          "text": [
            "Paul Yudkin studied at Bar-Ilan University, where he earned both his M.Sc. in Financial Mathematics with a grade of 88 and his B.Sc. in Computer Science & Applied Mathematics with a grade of 83.\n"
          ]
        }
      ]
    },
    {
      "cell_type": "code",
      "source": [
        "# generating chat response\n",
        "response = chat_engine.chat(\n",
        "   \"what you can tell about htis place where he leared?\"\n",
        ")\n",
        "print(str(response))"
      ],
      "metadata": {
        "colab": {
          "base_uri": "https://localhost:8080/"
        },
        "id": "ZDd8V54S43M1",
        "outputId": "cad03d36-bd13-4125-b433-2b93a58cb25d"
      },
      "execution_count": 15,
      "outputs": [
        {
          "output_type": "stream",
          "name": "stdout",
          "text": [
            "Bar-Ilan University is located in Ramat Gan, Israel, and is known for its strong emphasis on both academic excellence and Jewish values. It was established in 1955 and has grown to become one of the largest universities in Israel, offering a wide range of undergraduate and graduate programs across various fields, including humanities, social sciences, natural sciences, and engineering.\n",
            "\n",
            "The university is also recognized for its research contributions, particularly in areas like computer science, mathematics, and the social sciences. It has a vibrant campus life, with numerous student organizations, cultural events, and opportunities for community engagement. Additionally, Bar-Ilan University promotes a unique blend of secular and religious studies, making it a distinctive institution in the Israeli higher education landscape.\n"
          ]
        }
      ]
    },
    {
      "cell_type": "code",
      "source": [
        "# generating chat response\n",
        "response = chat_engine.chat(\n",
        "   \"what are the universities at that country ? please give short description\"\n",
        ")\n",
        "print(str(response))"
      ],
      "metadata": {
        "colab": {
          "base_uri": "https://localhost:8080/"
        },
        "id": "ag9VTWv-5AVP",
        "outputId": "65981554-05da-4766-8a41-e39d6b46bf8c"
      },
      "execution_count": 16,
      "outputs": [
        {
          "output_type": "stream",
          "name": "stdout",
          "text": [
            "Israel has several prominent universities, each known for its unique strengths and areas of focus. Here are some of the key institutions:\n",
            "\n",
            "1. **Hebrew University of Jerusalem**: Founded in 1918, it is Israel's oldest university and is renowned for its research and academic excellence. It offers a wide range of programs and is particularly strong in the humanities, social sciences, and natural sciences.\n",
            "\n",
            "2. **Tel Aviv University**: Established in 1956, it is one of the largest universities in Israel. Known for its innovative research and diverse academic programs, it excels in fields such as business, law, and the arts.\n",
            "\n",
            "3. **Technion - Israel Institute of Technology**: Located in Haifa, the Technion is Israel's premier engineering and technology university, founded in 1912. It is known for its cutting-edge research and contributions to science and technology.\n",
            "\n",
            "4. **Bar-Ilan University**: As mentioned earlier, Bar-Ilan combines academic rigor with Jewish studies. It offers a variety of programs and is known for its research in social sciences, humanities, and natural sciences.\n",
            "\n",
            "5. **Ben-Gurion University of the Negev**: Located in Beer Sheva, this university focuses on desert studies, environmental science, and engineering. It aims to contribute to the development of the Negev region.\n",
            "\n",
            "6. **Weizmann Institute of Science**: A world-renowned research institution located in Rehovot, it specializes in natural and exact sciences. The Weizmann Institute is known for its groundbreaking research and has produced numerous Nobel laureates.\n",
            "\n",
            "7. **Open University of Israel**: This institution offers distance learning programs and is known for its flexibility, allowing students to study at their own pace. It provides a wide range of academic disciplines.\n",
            "\n",
            "These universities contribute significantly to Israel's reputation as a center for education and research, attracting students and scholars from around the world.\n"
          ]
        }
      ]
    }
  ]
}