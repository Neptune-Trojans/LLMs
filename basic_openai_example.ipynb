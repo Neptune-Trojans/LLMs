{
  "nbformat": 4,
  "nbformat_minor": 0,
  "metadata": {
    "colab": {
      "provenance": [],
      "authorship_tag": "ABX9TyNNjTzt+G7BFNfD3H+xt82T"
    },
    "kernelspec": {
      "name": "python3",
      "display_name": "Python 3"
    },
    "language_info": {
      "name": "python"
    }
  },
  "cells": [
    {
      "cell_type": "code",
      "execution_count": null,
      "metadata": {
        "id": "16c6ASm7rmFc"
      },
      "outputs": [],
      "source": [
        "%pip install llama-index\n",
        "%pip install llama-index-embeddings-openai\n",
        "%pip install llama-index-llms-openai\n",
        "%pip install llama-index-readers-file\n",
        "%pip install docx2txt"
      ]
    },
    {
      "cell_type": "code",
      "source": [
        "from google.colab import drive\n",
        "drive.mount('/content/drive')\n",
        "input_dir = '/content/drive/MyDrive/colab_input_data/docs/'"
      ],
      "metadata": {
        "colab": {
          "base_uri": "https://localhost:8080/"
        },
        "id": "MZ2qK3k5tNkG",
        "outputId": "0ed83a5b-fc1e-4cff-de4f-1f4ce2b55eac"
      },
      "execution_count": 5,
      "outputs": [
        {
          "output_type": "stream",
          "name": "stdout",
          "text": [
            "Mounted at /content/drive\n"
          ]
        }
      ]
    },
    {
      "cell_type": "code",
      "source": [
        "from google.colab import userdata\n",
        "OPENAI_API_KEY = userdata.get('OPENAI_API_KEY')"
      ],
      "metadata": {
        "id": "AC8tk2CouqOn"
      },
      "execution_count": 36,
      "outputs": []
    },
    {
      "cell_type": "code",
      "source": [
        "from llama_index.llms.openai import OpenAI\n",
        "from llama_index.embeddings.openai import OpenAIEmbedding\n",
        "\n",
        "# initialize the LLM\n",
        "llm = OpenAI(model=\"gpt-4o-mini\", openai_api_key=OPENAI_API_KEY)\n",
        "\n",
        "# initialize the embedding\n",
        "embed_model = OpenAIEmbedding(model=\"text-embedding-3-small\", openai_api_key=OPENAI_API_KEY)"
      ],
      "metadata": {
        "id": "XabWFeJgr9DA"
      },
      "execution_count": 37,
      "outputs": []
    },
    {
      "cell_type": "code",
      "source": [
        "from llama_index.core import Settings\n",
        "\n",
        "# global settings\n",
        "Settings.llm = llm\n",
        "Settings.embed_model = embed_model\n",
        "Settings.chunk_size = 512\n",
        "Settings.chunk_overlap = 20"
      ],
      "metadata": {
        "id": "W9x1bd6msvog"
      },
      "execution_count": 38,
      "outputs": []
    },
    {
      "cell_type": "code",
      "source": [
        "from llama_index.core import VectorStoreIndex, SimpleDirectoryReader\n",
        "\n",
        "# load documents\n",
        "data = SimpleDirectoryReader(input_dir=input_dir,required_exts=[\".docx\"]).load_data()\n",
        "# indexing documents using vector store\n",
        "index = VectorStoreIndex.from_documents(data)"
      ],
      "metadata": {
        "id": "K7MOdzZcs24W"
      },
      "execution_count": 39,
      "outputs": []
    },
    {
      "cell_type": "code",
      "source": [
        "# converting vector store to query engine\n",
        "query_engine = index.as_query_engine(similarity_top_k=3)\n",
        "\n",
        "# generating query response\n",
        "response = query_engine.query(\"where Paul learned ?\")\n",
        "print(response)"
      ],
      "metadata": {
        "colab": {
          "base_uri": "https://localhost:8080/"
        },
        "id": "yF3wX11o2Pga",
        "outputId": "3d5845c5-cd9b-4179-af10-7aee8097eb67"
      },
      "execution_count": 41,
      "outputs": [
        {
          "output_type": "stream",
          "name": "stdout",
          "text": [
            "Paul Yudkin learned at Bar-Ilan University, where he obtained both his M.Sc. in Financial Mathematics and his B.Sc. in Computer Science & Applied Mathematics.\n"
          ]
        }
      ]
    },
    {
      "cell_type": "code",
      "source": [
        "from llama_index.core.memory import ChatMemoryBuffer\n",
        "from llama_index.core.chat_engine import CondensePlusContextChatEngine\n",
        "\n",
        "# creating chat memory buffer\n",
        "memory = ChatMemoryBuffer.from_defaults(token_limit=4500)\n",
        "\n",
        "# creating chat engine\n",
        "chat_engine = CondensePlusContextChatEngine.from_defaults(\n",
        "   index.as_retriever(),\n",
        "   memory=memory,\n",
        "   llm=llm\n",
        ")\n",
        "\n",
        "# generating chat response\n",
        "response = chat_engine.chat(\n",
        "   \"where Paul learned ?\"\n",
        ")\n",
        "print(str(response))\n"
      ],
      "metadata": {
        "colab": {
          "base_uri": "https://localhost:8080/"
        },
        "id": "wzVQ54bR4q7L",
        "outputId": "8dffc90e-dc15-4062-9b93-18083b78e383"
      },
      "execution_count": 42,
      "outputs": [
        {
          "output_type": "stream",
          "name": "stdout",
          "text": [
            "Paul Yudkin earned his education from Bar-Ilan University. He completed his Master of Science (M.Sc.) in Financial Mathematics with a grade of 88, and he also holds a Bachelor of Science (B.Sc.) in Computer Science & Applied Mathematics, achieving a grade of 83.\n"
          ]
        }
      ]
    },
    {
      "cell_type": "code",
      "source": [
        "# generating chat response\n",
        "response = chat_engine.chat(\n",
        "   \"what you can tell about htis place where he leared?\"\n",
        ")\n",
        "print(str(response))"
      ],
      "metadata": {
        "colab": {
          "base_uri": "https://localhost:8080/"
        },
        "id": "ZDd8V54S43M1",
        "outputId": "ff2fd66f-fd3b-4aba-dcd0-b6d63a172780"
      },
      "execution_count": 43,
      "outputs": [
        {
          "output_type": "stream",
          "name": "stdout",
          "text": [
            "Bar-Ilan University is located in Ramat Gan, Israel, and is one of the country's leading academic institutions. It was established in 1955 and is named after the prominent Jewish leader and scholar, Rabbi Meir Bar-Ilan. The university is known for its strong emphasis on Jewish studies alongside a wide range of secular disciplines.\n",
            "\n",
            "Bar-Ilan offers a diverse array of programs across various fields, including humanities, social sciences, natural sciences, engineering, law, and business. The university is also recognized for its research contributions and has several research centers and institutes that focus on various areas of study.\n",
            "\n",
            "In addition to its academic offerings, Bar-Ilan University promotes a vibrant campus life with numerous extracurricular activities, cultural events, and student organizations. The university aims to provide a holistic educational experience that combines academic rigor with personal development and community engagement.\n"
          ]
        }
      ]
    },
    {
      "cell_type": "code",
      "source": [
        "# generating chat response\n",
        "response = chat_engine.chat(\n",
        "   \"what are the universities at that country ? please give short description\"\n",
        ")\n",
        "print(str(response))"
      ],
      "metadata": {
        "colab": {
          "base_uri": "https://localhost:8080/"
        },
        "id": "ag9VTWv-5AVP",
        "outputId": "9e978ba9-fa9a-4a09-8c87-06afaf2a5cb8"
      },
      "execution_count": 44,
      "outputs": [
        {
          "output_type": "stream",
          "name": "stdout",
          "text": [
            "Israel is home to several prominent universities, each with its own unique strengths and focus areas. Here are some of the key universities in the country:\n",
            "\n",
            "1. **Hebrew University of Jerusalem**: Established in 1918, it is Israel's oldest university and is known for its research and academic excellence. It offers a wide range of programs in humanities, sciences, social sciences, and health sciences.\n",
            "\n",
            "2. **Tel Aviv University**: Founded in 1956, it is one of the largest universities in Israel and is renowned for its research output and innovation. It offers diverse programs across various fields, including arts, sciences, engineering, and business.\n",
            "\n",
            "3. **Technion – Israel Institute of Technology**: Located in Haifa, the Technion is Israel's premier engineering and technology university, established in 1912. It is known for its cutting-edge research and contributions to technology and engineering fields.\n",
            "\n",
            "4. **Weizmann Institute of Science**: This is a world-renowned research institution located in Rehovot, focusing primarily on natural and exact sciences. It offers graduate programs and is known for its high-impact research.\n",
            "\n",
            "5. **Ben-Gurion University of the Negev**: Established in 1969, this university is located in Beer Sheva and is known for its focus on desert studies, environmental science, and engineering. It emphasizes research and community engagement.\n",
            "\n",
            "6. **Bar-Ilan University**: As mentioned earlier, Bar-Ilan combines Jewish studies with secular education and offers a wide range of programs across various disciplines. It is known for its commitment to integrating Jewish values with academic pursuits.\n",
            "\n",
            "7. **Open University of Israel**: This university offers distance learning programs and is known for its flexible study options, allowing students to pursue higher education while balancing other commitments.\n",
            "\n",
            "These universities contribute significantly to Israel's reputation as a center for academic excellence and innovation in various fields.\n"
          ]
        }
      ]
    }
  ]
}